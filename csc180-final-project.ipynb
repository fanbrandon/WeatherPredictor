{
 "cells": [
  {
   "cell_type": "markdown",
   "id": "da51b757",
   "metadata": {
    "papermill": {
     "duration": 0.005526,
     "end_time": "2024-11-25T08:52:04.145762",
     "exception": false,
     "start_time": "2024-11-25T08:52:04.140236",
     "status": "completed"
    },
    "tags": []
   },
   "source": [
    "Brandon Fan\\\n",
    "Brandon Kmiec\\\n",
    "Kyle Mucha\\\n",
    "Ian Vachuska"
   ]
  },
  {
   "cell_type": "code",
   "execution_count": 1,
   "id": "0e9bf4fa",
   "metadata": {
    "execution": {
     "iopub.execute_input": "2024-11-25T08:52:04.156629Z",
     "iopub.status.busy": "2024-11-25T08:52:04.156335Z",
     "iopub.status.idle": "2024-11-25T08:52:16.928447Z",
     "shell.execute_reply": "2024-11-25T08:52:16.927764Z"
    },
    "papermill": {
     "duration": 12.779876,
     "end_time": "2024-11-25T08:52:16.930440",
     "exception": false,
     "start_time": "2024-11-25T08:52:04.150564",
     "status": "completed"
    },
    "tags": []
   },
   "outputs": [],
   "source": [
    "import tensorflow as tf\n",
    "import numpy as np\n",
    "import pandas as pd\n",
    "\n",
    "import os\n",
    "from sklearn import svm, datasets, preprocessing, metrics\n",
    "from sklearn.model_selection import train_test_split\n",
    "\n",
    "from collections.abc import Sequence\n",
    "\n",
    "from tensorflow.keras import optimizers\n",
    "from tensorflow.keras.models import Sequential, load_model\n",
    "from tensorflow.keras.layers import (\n",
    "    Dense, Activation, Bidirectional, LSTM,\n",
    "    Conv2D, Dropout, MaxPooling2D, Flatten\n",
    ")\n",
    "from tensorflow.keras.callbacks import EarlyStopping, ModelCheckpoint\n",
    "\n",
    "import seaborn as sns\n",
    "import matplotlib.pyplot as plt"
   ]
  },
  {
   "cell_type": "markdown",
   "id": "1c793f78",
   "metadata": {
    "papermill": {
     "duration": 0.005648,
     "end_time": "2024-11-25T08:52:16.941428",
     "exception": false,
     "start_time": "2024-11-25T08:52:16.935780",
     "status": "completed"
    },
    "tags": []
   },
   "source": [
    "# **Helper Functions**"
   ]
  },
  {
   "cell_type": "code",
   "execution_count": 2,
   "id": "6c300aa3",
   "metadata": {
    "execution": {
     "iopub.execute_input": "2024-11-25T08:52:16.952828Z",
     "iopub.status.busy": "2024-11-25T08:52:16.952226Z",
     "iopub.status.idle": "2024-11-25T08:52:16.965524Z",
     "shell.execute_reply": "2024-11-25T08:52:16.964701Z"
    },
    "papermill": {
     "duration": 0.020647,
     "end_time": "2024-11-25T08:52:16.967079",
     "exception": false,
     "start_time": "2024-11-25T08:52:16.946432",
     "status": "completed"
    },
    "tags": []
   },
   "outputs": [],
   "source": [
    "# Encode text values to dummy variables(i.e. [1,0,0],[0,1,0],[0,0,1] for red,green,blue)\n",
    "def encode_text_dummy(df, name):\n",
    "    dummies = pd.get_dummies(df[name])\n",
    "    for x in dummies.columns:\n",
    "        dummy_name = \"{}-{}\".format(name, x)\n",
    "        df[dummy_name] = dummies[x]\n",
    "    df.drop(name, axis=1, inplace=True)\n",
    "\n",
    "# Encode text values to indexes(i.e. [1],[2],[3] for red,green,blue).\n",
    "def encode_text_index(df, name):\n",
    "    le = preprocessing.LabelEncoder()\n",
    "    df[name] = le.fit_transform(df[name])\n",
    "    return le.classes_\n",
    "\n",
    "# Encode a numeric column as zscores\n",
    "def encode_numeric_zscore(df, name, mean=None, sd=None):\n",
    "    if mean is None:\n",
    "        mean = df[name].mean()\n",
    "    if sd is None:\n",
    "        sd = df[name].std()\n",
    "    df[name] = (df[name] - mean) / sd\n",
    "\n",
    "# Encode a column to a range between normalized_low and normalized_high.\n",
    "def encode_numeric_range(df, name, normalized_low=0, normalized_high=1, data_low=None, data_high=None):\n",
    "    if data_low is None:\n",
    "        data_low = min(df[name])\n",
    "        data_high = max(df[name])\n",
    "    df[name] = ((df[name] - data_low) / (data_high - data_low)) \\\n",
    "               * (normalized_high - normalized_low) + normalized_low\n",
    "\n",
    "# Remove all rows where the specified column is +/- sd standard deviations\n",
    "def remove_outliers(df, name, sd):\n",
    "    drop_rows = df.index[(np.abs(df[name] - df[name].mean()) >= (sd * df[name].std()))]\n",
    "    df.drop(drop_rows, axis=0, inplace=True)\n",
    "\n",
    "def to_xy(df, target):\n",
    "    result = []\n",
    "    for x in df.columns:\n",
    "        if x != target:\n",
    "            result.append(x)\n",
    "    # find out the type of the target column.\n",
    "    target_type = df[target].dtypes\n",
    "    target_type = target_type[0] if isinstance(target_type, Sequence) else target_type\n",
    "    # Encode to int for classification, float otherwise. TensorFlow likes 32 bits.\n",
    "    if target_type in (np.int64, np.int32):\n",
    "        # Classification\n",
    "        dummies = pd.get_dummies(df[target])\n",
    "        return df[result].values.astype(np.float32), dummies.values.astype(np.float32)\n",
    "    else:\n",
    "        # Regression\n",
    "        return df[result].values.astype(np.float32), df[target].values.astype(np.float32)\n",
    "\n",
    "# Regression chart.\n",
    "def chart_regression(pred,y,sort=True):\n",
    "    t = pd.DataFrame({'pred' : pred, 'y' : y.flatten()})\n",
    "    if sort:\n",
    "        t.sort_values(by=['y'],inplace=True)\n",
    "    a = plt.plot(t['pred'].tolist(),label='prediction')\n",
    "    b = plt.plot(t['y'].tolist(),label='expected')\n",
    "    plt.ylabel('output')\n",
    "    plt.legend()\n",
    "    plt.show()\n",
    "#Offset: time series entries are in past \n",
    "#Shift: time series is as normal but less rows to be compatible with concat\n",
    "def to_sequences(seq_size, data, offset = 0):\n",
    "    x = []\n",
    "    y = []\n",
    "    \n",
    "    for i in range(len(data)-seq_size-1):\n",
    "        #index will not be out of range\n",
    "        #timeseries will be weird for the first `offset` entries\n",
    "        index = max(i - offset,0)\n",
    "        \n",
    "        window = data[index:(index + seq_size)]\n",
    "        after_window = data[i + seq_size]\n",
    "        window = [[x] for x in window]\n",
    "        x.append(window)\n",
    "        y.append(after_window)\n",
    "\n",
    "    return np.array(x),np.array(y)\n",
    "\n",
    "#Ian Vachuska\n",
    "def shape_data(data, inputs = 4, series_length = 7, channels = 1):\n",
    "    x_fcnn = data.reshape(data.shape[0:2])\n",
    "                                #-1 bc date isnt dropped in df\n",
    "    x_cnn = data.reshape(data.shape[0], inputs, series_length, channels)\n",
    "                                #-1 bc date isnt dropped in df\n",
    "    x_rnn = data.reshape(data.shape[0], inputs*channels, series_length)\n",
    "    return x_fcnn, x_cnn, x_rnn"
   ]
  },
  {
   "cell_type": "markdown",
   "id": "af0286da",
   "metadata": {
    "papermill": {
     "duration": 0.004484,
     "end_time": "2024-11-25T08:52:16.976190",
     "exception": false,
     "start_time": "2024-11-25T08:52:16.971706",
     "status": "completed"
    },
    "tags": []
   },
   "source": [
    "# **Read CSV File**"
   ]
  },
  {
   "cell_type": "code",
   "execution_count": 3,
   "id": "195f4be8",
   "metadata": {
    "_cell_guid": "b1076dfc-b9ad-4769-8c92-a6c4dae69d19",
    "_uuid": "8f2839f25d086af736a60e9eeb907d3b93b6e0e5",
    "execution": {
     "iopub.execute_input": "2024-11-25T08:52:16.987082Z",
     "iopub.status.busy": "2024-11-25T08:52:16.986544Z",
     "iopub.status.idle": "2024-11-25T08:52:17.105569Z",
     "shell.execute_reply": "2024-11-25T08:52:17.104654Z"
    },
    "papermill": {
     "duration": 0.126508,
     "end_time": "2024-11-25T08:52:17.107307",
     "exception": false,
     "start_time": "2024-11-25T08:52:16.980799",
     "status": "completed"
    },
    "tags": []
   },
   "outputs": [
    {
     "name": "stdout",
     "output_type": "stream",
     "text": [
      "df shape: (15340, 25)\n"
     ]
    },
    {
     "data": {
      "text/html": [
       "<div>\n",
       "<style scoped>\n",
       "    .dataframe tbody tr th:only-of-type {\n",
       "        vertical-align: middle;\n",
       "    }\n",
       "\n",
       "    .dataframe tbody tr th {\n",
       "        vertical-align: top;\n",
       "    }\n",
       "\n",
       "    .dataframe thead th {\n",
       "        text-align: right;\n",
       "    }\n",
       "</style>\n",
       "<table border=\"1\" class=\"dataframe\">\n",
       "  <thead>\n",
       "    <tr style=\"text-align: right;\">\n",
       "      <th></th>\n",
       "      <th>Date</th>\n",
       "      <th>MaxTemperature</th>\n",
       "      <th>MaxTemperatureNormal</th>\n",
       "      <th>MaxTemperatureDeparture</th>\n",
       "      <th>MinTemperature</th>\n",
       "      <th>MinTemperatureNormal</th>\n",
       "      <th>MinTemperatureDeparture</th>\n",
       "      <th>AvgTemperature</th>\n",
       "      <th>AvgTemperatureNormal</th>\n",
       "      <th>AvgTemperatureDeparture</th>\n",
       "      <th>...</th>\n",
       "      <th>SnowfallNormal</th>\n",
       "      <th>SnowfallDeparture</th>\n",
       "      <th>SnowDepth</th>\n",
       "      <th>HDD</th>\n",
       "      <th>HDDNormal</th>\n",
       "      <th>HDDDeparture</th>\n",
       "      <th>CDD</th>\n",
       "      <th>CDDNormal</th>\n",
       "      <th>CDDDeparture</th>\n",
       "      <th>GDD</th>\n",
       "    </tr>\n",
       "  </thead>\n",
       "  <tbody>\n",
       "    <tr>\n",
       "      <th>0</th>\n",
       "      <td>1982-01-01</td>\n",
       "      <td>56.0</td>\n",
       "      <td>55.2</td>\n",
       "      <td>0.8</td>\n",
       "      <td>43.0</td>\n",
       "      <td>40.3</td>\n",
       "      <td>2.7</td>\n",
       "      <td>49.5</td>\n",
       "      <td>47.8</td>\n",
       "      <td>1.7</td>\n",
       "      <td>...</td>\n",
       "      <td>0.0</td>\n",
       "      <td>NaN</td>\n",
       "      <td>NaN</td>\n",
       "      <td>15.0</td>\n",
       "      <td>17.2</td>\n",
       "      <td>-2.2</td>\n",
       "      <td>0.0</td>\n",
       "      <td>0.0</td>\n",
       "      <td>0.0</td>\n",
       "      <td>0.0</td>\n",
       "    </tr>\n",
       "    <tr>\n",
       "      <th>1</th>\n",
       "      <td>1982-01-02</td>\n",
       "      <td>54.0</td>\n",
       "      <td>55.2</td>\n",
       "      <td>-1.2</td>\n",
       "      <td>40.0</td>\n",
       "      <td>40.4</td>\n",
       "      <td>-0.4</td>\n",
       "      <td>47.0</td>\n",
       "      <td>47.8</td>\n",
       "      <td>-0.8</td>\n",
       "      <td>...</td>\n",
       "      <td>0.0</td>\n",
       "      <td>NaN</td>\n",
       "      <td>NaN</td>\n",
       "      <td>18.0</td>\n",
       "      <td>17.2</td>\n",
       "      <td>0.8</td>\n",
       "      <td>0.0</td>\n",
       "      <td>0.0</td>\n",
       "      <td>0.0</td>\n",
       "      <td>0.0</td>\n",
       "    </tr>\n",
       "    <tr>\n",
       "      <th>2</th>\n",
       "      <td>1982-01-03</td>\n",
       "      <td>47.0</td>\n",
       "      <td>55.2</td>\n",
       "      <td>-8.2</td>\n",
       "      <td>37.0</td>\n",
       "      <td>40.4</td>\n",
       "      <td>-3.4</td>\n",
       "      <td>42.0</td>\n",
       "      <td>47.8</td>\n",
       "      <td>-5.8</td>\n",
       "      <td>...</td>\n",
       "      <td>0.0</td>\n",
       "      <td>NaN</td>\n",
       "      <td>NaN</td>\n",
       "      <td>23.0</td>\n",
       "      <td>17.2</td>\n",
       "      <td>5.8</td>\n",
       "      <td>0.0</td>\n",
       "      <td>0.0</td>\n",
       "      <td>0.0</td>\n",
       "      <td>0.0</td>\n",
       "    </tr>\n",
       "    <tr>\n",
       "      <th>3</th>\n",
       "      <td>1982-01-04</td>\n",
       "      <td>50.0</td>\n",
       "      <td>55.3</td>\n",
       "      <td>-5.3</td>\n",
       "      <td>42.0</td>\n",
       "      <td>40.4</td>\n",
       "      <td>1.6</td>\n",
       "      <td>46.0</td>\n",
       "      <td>47.8</td>\n",
       "      <td>-1.8</td>\n",
       "      <td>...</td>\n",
       "      <td>0.0</td>\n",
       "      <td>NaN</td>\n",
       "      <td>NaN</td>\n",
       "      <td>19.0</td>\n",
       "      <td>17.2</td>\n",
       "      <td>1.8</td>\n",
       "      <td>0.0</td>\n",
       "      <td>0.0</td>\n",
       "      <td>0.0</td>\n",
       "      <td>0.0</td>\n",
       "    </tr>\n",
       "    <tr>\n",
       "      <th>4</th>\n",
       "      <td>1982-01-05</td>\n",
       "      <td>50.0</td>\n",
       "      <td>55.3</td>\n",
       "      <td>-5.3</td>\n",
       "      <td>40.0</td>\n",
       "      <td>40.5</td>\n",
       "      <td>-0.5</td>\n",
       "      <td>45.0</td>\n",
       "      <td>47.9</td>\n",
       "      <td>-2.9</td>\n",
       "      <td>...</td>\n",
       "      <td>0.0</td>\n",
       "      <td>NaN</td>\n",
       "      <td>NaN</td>\n",
       "      <td>20.0</td>\n",
       "      <td>17.1</td>\n",
       "      <td>2.9</td>\n",
       "      <td>0.0</td>\n",
       "      <td>0.0</td>\n",
       "      <td>0.0</td>\n",
       "      <td>0.0</td>\n",
       "    </tr>\n",
       "    <tr>\n",
       "      <th>...</th>\n",
       "      <td>...</td>\n",
       "      <td>...</td>\n",
       "      <td>...</td>\n",
       "      <td>...</td>\n",
       "      <td>...</td>\n",
       "      <td>...</td>\n",
       "      <td>...</td>\n",
       "      <td>...</td>\n",
       "      <td>...</td>\n",
       "      <td>...</td>\n",
       "      <td>...</td>\n",
       "      <td>...</td>\n",
       "      <td>...</td>\n",
       "      <td>...</td>\n",
       "      <td>...</td>\n",
       "      <td>...</td>\n",
       "      <td>...</td>\n",
       "      <td>...</td>\n",
       "      <td>...</td>\n",
       "      <td>...</td>\n",
       "      <td>...</td>\n",
       "    </tr>\n",
       "    <tr>\n",
       "      <th>15335</th>\n",
       "      <td>2023-12-27</td>\n",
       "      <td>60.0</td>\n",
       "      <td>55.2</td>\n",
       "      <td>4.8</td>\n",
       "      <td>45.0</td>\n",
       "      <td>40.2</td>\n",
       "      <td>4.8</td>\n",
       "      <td>52.5</td>\n",
       "      <td>47.7</td>\n",
       "      <td>4.8</td>\n",
       "      <td>...</td>\n",
       "      <td>0.0</td>\n",
       "      <td>0.0</td>\n",
       "      <td>NaN</td>\n",
       "      <td>12.0</td>\n",
       "      <td>17.3</td>\n",
       "      <td>-5.3</td>\n",
       "      <td>0.0</td>\n",
       "      <td>0.0</td>\n",
       "      <td>0.0</td>\n",
       "      <td>3.0</td>\n",
       "    </tr>\n",
       "    <tr>\n",
       "      <th>15336</th>\n",
       "      <td>2023-12-28</td>\n",
       "      <td>66.0</td>\n",
       "      <td>55.2</td>\n",
       "      <td>10.8</td>\n",
       "      <td>48.0</td>\n",
       "      <td>40.2</td>\n",
       "      <td>7.8</td>\n",
       "      <td>57.0</td>\n",
       "      <td>47.7</td>\n",
       "      <td>9.3</td>\n",
       "      <td>...</td>\n",
       "      <td>0.0</td>\n",
       "      <td>0.0</td>\n",
       "      <td>NaN</td>\n",
       "      <td>8.0</td>\n",
       "      <td>17.3</td>\n",
       "      <td>-9.3</td>\n",
       "      <td>0.0</td>\n",
       "      <td>0.0</td>\n",
       "      <td>0.0</td>\n",
       "      <td>7.0</td>\n",
       "    </tr>\n",
       "    <tr>\n",
       "      <th>15337</th>\n",
       "      <td>2023-12-29</td>\n",
       "      <td>66.0</td>\n",
       "      <td>55.2</td>\n",
       "      <td>10.8</td>\n",
       "      <td>49.0</td>\n",
       "      <td>40.3</td>\n",
       "      <td>8.7</td>\n",
       "      <td>57.5</td>\n",
       "      <td>47.7</td>\n",
       "      <td>9.8</td>\n",
       "      <td>...</td>\n",
       "      <td>0.0</td>\n",
       "      <td>0.0</td>\n",
       "      <td>NaN</td>\n",
       "      <td>7.0</td>\n",
       "      <td>17.3</td>\n",
       "      <td>-10.3</td>\n",
       "      <td>0.0</td>\n",
       "      <td>0.0</td>\n",
       "      <td>0.0</td>\n",
       "      <td>8.0</td>\n",
       "    </tr>\n",
       "    <tr>\n",
       "      <th>15338</th>\n",
       "      <td>2023-12-30</td>\n",
       "      <td>63.0</td>\n",
       "      <td>55.2</td>\n",
       "      <td>7.8</td>\n",
       "      <td>51.0</td>\n",
       "      <td>40.3</td>\n",
       "      <td>10.7</td>\n",
       "      <td>57.0</td>\n",
       "      <td>47.7</td>\n",
       "      <td>9.3</td>\n",
       "      <td>...</td>\n",
       "      <td>0.0</td>\n",
       "      <td>0.0</td>\n",
       "      <td>NaN</td>\n",
       "      <td>8.0</td>\n",
       "      <td>17.3</td>\n",
       "      <td>-9.3</td>\n",
       "      <td>0.0</td>\n",
       "      <td>0.0</td>\n",
       "      <td>0.0</td>\n",
       "      <td>7.0</td>\n",
       "    </tr>\n",
       "    <tr>\n",
       "      <th>15339</th>\n",
       "      <td>2023-12-31</td>\n",
       "      <td>58.0</td>\n",
       "      <td>55.2</td>\n",
       "      <td>2.8</td>\n",
       "      <td>50.0</td>\n",
       "      <td>40.3</td>\n",
       "      <td>9.7</td>\n",
       "      <td>54.0</td>\n",
       "      <td>47.7</td>\n",
       "      <td>6.3</td>\n",
       "      <td>...</td>\n",
       "      <td>0.0</td>\n",
       "      <td>0.0</td>\n",
       "      <td>0.0</td>\n",
       "      <td>11.0</td>\n",
       "      <td>17.3</td>\n",
       "      <td>-6.3</td>\n",
       "      <td>0.0</td>\n",
       "      <td>0.0</td>\n",
       "      <td>0.0</td>\n",
       "      <td>4.0</td>\n",
       "    </tr>\n",
       "  </tbody>\n",
       "</table>\n",
       "<p>15340 rows × 25 columns</p>\n",
       "</div>"
      ],
      "text/plain": [
       "             Date   MaxTemperature   MaxTemperatureNormal  \\\n",
       "0      1982-01-01             56.0                   55.2   \n",
       "1      1982-01-02             54.0                   55.2   \n",
       "2      1982-01-03             47.0                   55.2   \n",
       "3      1982-01-04             50.0                   55.3   \n",
       "4      1982-01-05             50.0                   55.3   \n",
       "...           ...              ...                    ...   \n",
       "15335  2023-12-27             60.0                   55.2   \n",
       "15336  2023-12-28             66.0                   55.2   \n",
       "15337  2023-12-29             66.0                   55.2   \n",
       "15338  2023-12-30             63.0                   55.2   \n",
       "15339  2023-12-31             58.0                   55.2   \n",
       "\n",
       "        MaxTemperatureDeparture   MinTemperature   MinTemperatureNormal  \\\n",
       "0                           0.8             43.0                   40.3   \n",
       "1                          -1.2             40.0                   40.4   \n",
       "2                          -8.2             37.0                   40.4   \n",
       "3                          -5.3             42.0                   40.4   \n",
       "4                          -5.3             40.0                   40.5   \n",
       "...                         ...              ...                    ...   \n",
       "15335                       4.8             45.0                   40.2   \n",
       "15336                      10.8             48.0                   40.2   \n",
       "15337                      10.8             49.0                   40.3   \n",
       "15338                       7.8             51.0                   40.3   \n",
       "15339                       2.8             50.0                   40.3   \n",
       "\n",
       "        MinTemperatureDeparture   AvgTemperature   AvgTemperatureNormal  \\\n",
       "0                           2.7             49.5                   47.8   \n",
       "1                          -0.4             47.0                   47.8   \n",
       "2                          -3.4             42.0                   47.8   \n",
       "3                           1.6             46.0                   47.8   \n",
       "4                          -0.5             45.0                   47.9   \n",
       "...                         ...              ...                    ...   \n",
       "15335                       4.8             52.5                   47.7   \n",
       "15336                       7.8             57.0                   47.7   \n",
       "15337                       8.7             57.5                   47.7   \n",
       "15338                      10.7             57.0                   47.7   \n",
       "15339                       9.7             54.0                   47.7   \n",
       "\n",
       "        AvgTemperatureDeparture  ...   SnowfallNormal   SnowfallDeparture  \\\n",
       "0                           1.7  ...              0.0                 NaN   \n",
       "1                          -0.8  ...              0.0                 NaN   \n",
       "2                          -5.8  ...              0.0                 NaN   \n",
       "3                          -1.8  ...              0.0                 NaN   \n",
       "4                          -2.9  ...              0.0                 NaN   \n",
       "...                         ...  ...              ...                 ...   \n",
       "15335                       4.8  ...              0.0                 0.0   \n",
       "15336                       9.3  ...              0.0                 0.0   \n",
       "15337                       9.8  ...              0.0                 0.0   \n",
       "15338                       9.3  ...              0.0                 0.0   \n",
       "15339                       6.3  ...              0.0                 0.0   \n",
       "\n",
       "        SnowDepth   HDD  HDDNormal   HDDDeparture   CDD   CDDNormal  \\\n",
       "0             NaN  15.0       17.2           -2.2   0.0         0.0   \n",
       "1             NaN  18.0       17.2            0.8   0.0         0.0   \n",
       "2             NaN  23.0       17.2            5.8   0.0         0.0   \n",
       "3             NaN  19.0       17.2            1.8   0.0         0.0   \n",
       "4             NaN  20.0       17.1            2.9   0.0         0.0   \n",
       "...           ...   ...        ...            ...   ...         ...   \n",
       "15335         NaN  12.0       17.3           -5.3   0.0         0.0   \n",
       "15336         NaN   8.0       17.3           -9.3   0.0         0.0   \n",
       "15337         NaN   7.0       17.3          -10.3   0.0         0.0   \n",
       "15338         NaN   8.0       17.3           -9.3   0.0         0.0   \n",
       "15339         0.0  11.0       17.3           -6.3   0.0         0.0   \n",
       "\n",
       "        CDDDeparture   GDD  \n",
       "0                0.0   0.0  \n",
       "1                0.0   0.0  \n",
       "2                0.0   0.0  \n",
       "3                0.0   0.0  \n",
       "4                0.0   0.0  \n",
       "...              ...   ...  \n",
       "15335            0.0   3.0  \n",
       "15336            0.0   7.0  \n",
       "15337            0.0   8.0  \n",
       "15338            0.0   7.0  \n",
       "15339            0.0   4.0  \n",
       "\n",
       "[15340 rows x 25 columns]"
      ]
     },
     "execution_count": 3,
     "metadata": {},
     "output_type": "execute_result"
    }
   ],
   "source": [
    "#Brandon Kmiec\n",
    "\n",
    "import numpy as np\n",
    "import pandas as pd\n",
    "import os\n",
    "\n",
    "path = '/kaggle/input/csus-weather-data-csv/csus-weather-data.csv'\n",
    "#path = '/kaggle/input/d/ianvachuska/csus-weather-data-csv/csus-weather-data.csv'\n",
    "\n",
    "df = pd.read_csv(path, na_values=[' M'])\n",
    "\n",
    "print(\"df shape: {}\".format(df.shape))\n",
    "df"
   ]
  },
  {
   "cell_type": "markdown",
   "id": "cb60389c",
   "metadata": {
    "papermill": {
     "duration": 0.00519,
     "end_time": "2024-11-25T08:52:17.118127",
     "exception": false,
     "start_time": "2024-11-25T08:52:17.112937",
     "status": "completed"
    },
    "tags": []
   },
   "source": [
    "# **Drop Unneeded Columns**"
   ]
  },
  {
   "cell_type": "code",
   "execution_count": 4,
   "id": "9d600aaf",
   "metadata": {
    "execution": {
     "iopub.execute_input": "2024-11-25T08:52:17.129467Z",
     "iopub.status.busy": "2024-11-25T08:52:17.129148Z",
     "iopub.status.idle": "2024-11-25T08:52:17.137391Z",
     "shell.execute_reply": "2024-11-25T08:52:17.136741Z"
    },
    "papermill": {
     "duration": 0.015578,
     "end_time": "2024-11-25T08:52:17.138873",
     "exception": false,
     "start_time": "2024-11-25T08:52:17.123295",
     "status": "completed"
    },
    "tags": []
   },
   "outputs": [],
   "source": [
    "#Brandon Kmiec\n",
    "\n",
    "# Remove whitespace infront of column names\n",
    "cols = df.columns\n",
    "for i in range(df.shape[1]):\n",
    "    df.rename(columns={cols[i]:cols[i].strip()}, inplace=True)"
   ]
  },
  {
   "cell_type": "code",
   "execution_count": 5,
   "id": "30302d89",
   "metadata": {
    "execution": {
     "iopub.execute_input": "2024-11-25T08:52:17.150064Z",
     "iopub.status.busy": "2024-11-25T08:52:17.149813Z",
     "iopub.status.idle": "2024-11-25T08:52:17.173294Z",
     "shell.execute_reply": "2024-11-25T08:52:17.172485Z"
    },
    "papermill": {
     "duration": 0.031055,
     "end_time": "2024-11-25T08:52:17.174972",
     "exception": false,
     "start_time": "2024-11-25T08:52:17.143917",
     "status": "completed"
    },
    "tags": []
   },
   "outputs": [
    {
     "name": "stdout",
     "output_type": "stream",
     "text": [
      "df shape: (15340, 4)\n"
     ]
    },
    {
     "data": {
      "text/html": [
       "<div>\n",
       "<style scoped>\n",
       "    .dataframe tbody tr th:only-of-type {\n",
       "        vertical-align: middle;\n",
       "    }\n",
       "\n",
       "    .dataframe tbody tr th {\n",
       "        vertical-align: top;\n",
       "    }\n",
       "\n",
       "    .dataframe thead th {\n",
       "        text-align: right;\n",
       "    }\n",
       "</style>\n",
       "<table border=\"1\" class=\"dataframe\">\n",
       "  <thead>\n",
       "    <tr style=\"text-align: right;\">\n",
       "      <th></th>\n",
       "      <th>MaxTemperature</th>\n",
       "      <th>MinTemperature</th>\n",
       "      <th>AvgTemperature</th>\n",
       "      <th>Precipitation</th>\n",
       "    </tr>\n",
       "  </thead>\n",
       "  <tbody>\n",
       "    <tr>\n",
       "      <th>0</th>\n",
       "      <td>56.0</td>\n",
       "      <td>43.0</td>\n",
       "      <td>49.5</td>\n",
       "      <td>0.39</td>\n",
       "    </tr>\n",
       "    <tr>\n",
       "      <th>1</th>\n",
       "      <td>54.0</td>\n",
       "      <td>40.0</td>\n",
       "      <td>47.0</td>\n",
       "      <td>0.00</td>\n",
       "    </tr>\n",
       "    <tr>\n",
       "      <th>2</th>\n",
       "      <td>47.0</td>\n",
       "      <td>37.0</td>\n",
       "      <td>42.0</td>\n",
       "      <td>0.35</td>\n",
       "    </tr>\n",
       "    <tr>\n",
       "      <th>3</th>\n",
       "      <td>50.0</td>\n",
       "      <td>42.0</td>\n",
       "      <td>46.0</td>\n",
       "      <td>3.10</td>\n",
       "    </tr>\n",
       "    <tr>\n",
       "      <th>4</th>\n",
       "      <td>50.0</td>\n",
       "      <td>40.0</td>\n",
       "      <td>45.0</td>\n",
       "      <td>0.55</td>\n",
       "    </tr>\n",
       "    <tr>\n",
       "      <th>...</th>\n",
       "      <td>...</td>\n",
       "      <td>...</td>\n",
       "      <td>...</td>\n",
       "      <td>...</td>\n",
       "    </tr>\n",
       "    <tr>\n",
       "      <th>15335</th>\n",
       "      <td>60.0</td>\n",
       "      <td>45.0</td>\n",
       "      <td>52.5</td>\n",
       "      <td>0.34</td>\n",
       "    </tr>\n",
       "    <tr>\n",
       "      <th>15336</th>\n",
       "      <td>66.0</td>\n",
       "      <td>48.0</td>\n",
       "      <td>57.0</td>\n",
       "      <td>0.00</td>\n",
       "    </tr>\n",
       "    <tr>\n",
       "      <th>15337</th>\n",
       "      <td>66.0</td>\n",
       "      <td>49.0</td>\n",
       "      <td>57.5</td>\n",
       "      <td>0.63</td>\n",
       "    </tr>\n",
       "    <tr>\n",
       "      <th>15338</th>\n",
       "      <td>63.0</td>\n",
       "      <td>51.0</td>\n",
       "      <td>57.0</td>\n",
       "      <td>0.29</td>\n",
       "    </tr>\n",
       "    <tr>\n",
       "      <th>15339</th>\n",
       "      <td>58.0</td>\n",
       "      <td>50.0</td>\n",
       "      <td>54.0</td>\n",
       "      <td>0.00</td>\n",
       "    </tr>\n",
       "  </tbody>\n",
       "</table>\n",
       "<p>15340 rows × 4 columns</p>\n",
       "</div>"
      ],
      "text/plain": [
       "       MaxTemperature  MinTemperature  AvgTemperature  Precipitation\n",
       "0                56.0            43.0            49.5           0.39\n",
       "1                54.0            40.0            47.0           0.00\n",
       "2                47.0            37.0            42.0           0.35\n",
       "3                50.0            42.0            46.0           3.10\n",
       "4                50.0            40.0            45.0           0.55\n",
       "...               ...             ...             ...            ...\n",
       "15335            60.0            45.0            52.5           0.34\n",
       "15336            66.0            48.0            57.0           0.00\n",
       "15337            66.0            49.0            57.5           0.63\n",
       "15338            63.0            51.0            57.0           0.29\n",
       "15339            58.0            50.0            54.0           0.00\n",
       "\n",
       "[15340 rows x 4 columns]"
      ]
     },
     "execution_count": 5,
     "metadata": {},
     "output_type": "execute_result"
    }
   ],
   "source": [
    "#Brandon Kmiec\n",
    "\n",
    "df.drop(['Date'], axis=1, inplace=True)\n",
    "df.drop(['MaxTemperatureNormal', 'MaxTemperatureDeparture'], axis=1, inplace=True)\n",
    "df.drop(['MinTemperatureNormal', 'MinTemperatureDeparture'], axis=1, inplace=True)\n",
    "df.drop(['AvgTemperatureNormal', 'AvgTemperatureDeparture'], axis=1, inplace=True)\n",
    "df.drop(['AtObsTemperature'], axis=1, inplace=True)\n",
    "df.drop(['PrecipitationNormal', 'PrecipitationDeparture'], axis=1, inplace=True)\n",
    "df.drop(['Snowfall', 'SnowfallNormal', 'SnowfallDeparture', 'SnowDepth'], axis=1, inplace=True)\n",
    "df.drop(['HDD', 'HDDNormal', 'HDDDeparture'], axis=1, inplace=True)\n",
    "df.drop(['CDD', 'CDDNormal', 'CDDDeparture'], axis=1, inplace=True)\n",
    "df.drop(['GDD'], axis=1, inplace=True)\n",
    "\n",
    "print(\"df shape: {}\".format(df.shape))\n",
    "df"
   ]
  },
  {
   "cell_type": "markdown",
   "id": "98c270ac",
   "metadata": {
    "papermill": {
     "duration": 0.006026,
     "end_time": "2024-11-25T08:52:17.186916",
     "exception": false,
     "start_time": "2024-11-25T08:52:17.180890",
     "status": "completed"
    },
    "tags": []
   },
   "source": [
    "# **Normalize Data**"
   ]
  },
  {
   "cell_type": "code",
   "execution_count": 6,
   "id": "b85842cb",
   "metadata": {
    "execution": {
     "iopub.execute_input": "2024-11-25T08:52:17.198937Z",
     "iopub.status.busy": "2024-11-25T08:52:17.198677Z",
     "iopub.status.idle": "2024-11-25T08:52:18.295727Z",
     "shell.execute_reply": "2024-11-25T08:52:18.294929Z"
    },
    "papermill": {
     "duration": 1.105324,
     "end_time": "2024-11-25T08:52:18.297706",
     "exception": false,
     "start_time": "2024-11-25T08:52:17.192382",
     "status": "completed"
    },
    "tags": []
   },
   "outputs": [
    {
     "name": "stdout",
     "output_type": "stream",
     "text": [
      "MaxTemperature     NaN\n",
      "MinTemperature    35.0\n",
      "AvgTemperature     NaN\n",
      "Precipitation      0.0\n",
      "Name: 9115, dtype: float64\n",
      "\n",
      "Not a Number\n",
      "Change pos [6328, 0] to 77.0. prev: 78.0, next: 76.0\n",
      "\n",
      "Not a Number\n",
      "Change pos [9115, 0] to 55.0. prev: 58.0, next: 52.0\n",
      "\n",
      "Not a Number\n",
      "Change pos [9114, 1] to 46.0. prev: 57.0, next: 35.0\n",
      "\n",
      "Not a Number\n",
      "Change pos [6328, 2] to 63.75. prev: 64.5, next: 63.0\n",
      "\n",
      "Not a Number\n",
      "Change pos [9114, 2] to 51.5. prev: 60.5, next: 42.5\n",
      "\n",
      "Not a Number\n",
      "Change pos [9115, 2] to 47.0. prev: 51.5, next: 42.5\n",
      "\n",
      "MaxTemperature    55.0\n",
      "MinTemperature    35.0\n",
      "AvgTemperature    47.0\n",
      "Precipitation      0.0\n",
      "Name: 9115, dtype: float64\n",
      "\n",
      "MaxTemperature    float64\n",
      "MinTemperature    float64\n",
      "AvgTemperature    float64\n",
      "Precipitation     float64\n",
      "dtype: object\n",
      "\n"
     ]
    }
   ],
   "source": [
    "#Brandon Kmiec\n",
    "\n",
    "# Verify replacing missing values with mean of previous and next value and converting type to np.float64\n",
    "\n",
    "# Missing value in MaxTemperature on 4/30/1999 and 12/16/2006\n",
    "# Missing value in MinTemperature on 12/15/2006\n",
    "# Missing value in AvgTemperature on 4/30/1999, 12/15/2006, and 12/16/2006\n",
    "\n",
    "#print(\"{}\\n\".format(df.dtypes))\n",
    "\n",
    "print(df.iloc[9115])\n",
    "\n",
    "# Replace NaN with average of previous and next value\n",
    "# (taking the mean of entire column not recommended for time series data)\n",
    "for column in df.columns:\n",
    "    col = df.columns.get_loc(column)\n",
    "    for row in range(df.shape[0]):\n",
    "        if pd.isna(df.iloc[row, col]):\n",
    "            print(\"\\nNot a Number\")\n",
    "            prev_val = df.iloc[row - 1, col] if row > 0 else df.iloc[row + 1, col]\n",
    "            next_val = df.iloc[row + 1, col] if row < len(df) - 1 else df.iloc[row - 1, col]\n",
    "            \n",
    "            if pd.isna(prev_val):\n",
    "                pre_val = df.iloc[row - 2, col]\n",
    "            if pd.isna(next_val):\n",
    "                next_val = df.iloc[row + 2, col]\n",
    "                \n",
    "            df.iloc[row, col] = (prev_val + next_val) / 2\n",
    "            print(f\"Change pos [{row}, {col}] to {df.iloc[row, col]}. prev: {prev_val}, next: {next_val}\")\n",
    "\n",
    "\n",
    "# old code to replace NaN with mean of entire column\n",
    "'''\n",
    "#df['MaxTemperature'].fillna(df['MaxTemperature'].mean())\n",
    "df['MaxTemperature'] = df['MaxTemperature'].replace(np.NaN, round(df['MaxTemperature'].mean(), 2))\n",
    "#df['MinTemperature'].fillna(df['MinTemperature'].mean())\n",
    "df['MinTemperature'] = df['MinTemperature'].replace(np.NaN, round(df['MinTemperature'].mean(), 2))\n",
    "#df['AvgTemperature'].fillna(df['AvgTemperature'].mean())\n",
    "df['AvgTemperature'] = df['AvgTemperature'].replace(np.NaN, round(df['AvgTemperature'].mean(), 2))\n",
    "'''\n",
    "\n",
    "#df['Date'] = pd.to_numeric(pd.to_datetime(df['Date']))\n",
    "df['MaxTemperature'] = df['MaxTemperature'].astype(np.float64)\n",
    "df['MinTemperature'] = df['MinTemperature'].astype(np.float64)\n",
    "df['AvgTemperature'] = df['AvgTemperature'].astype(np.float64)\n",
    "\n",
    "print(\"\\n{}\".format(df.iloc[9115]))\n",
    "\n",
    "print(\"\\n{}\\n\".format(df.dtypes))"
   ]
  },
  {
   "cell_type": "code",
   "execution_count": 7,
   "id": "3cc91b3d",
   "metadata": {
    "execution": {
     "iopub.execute_input": "2024-11-25T08:52:18.310514Z",
     "iopub.status.busy": "2024-11-25T08:52:18.310200Z",
     "iopub.status.idle": "2024-11-25T08:52:18.314374Z",
     "shell.execute_reply": "2024-11-25T08:52:18.313751Z"
    },
    "papermill": {
     "duration": 0.01237,
     "end_time": "2024-11-25T08:52:18.316005",
     "exception": false,
     "start_time": "2024-11-25T08:52:18.303635",
     "status": "completed"
    },
    "tags": []
   },
   "outputs": [],
   "source": [
    "#Ian Vachuska\n",
    "#copy output layer before z-score encoding(outputlayer should never be normalized)\n",
    "output_df = df.copy()"
   ]
  },
  {
   "cell_type": "code",
   "execution_count": 8,
   "id": "12e3e459",
   "metadata": {
    "execution": {
     "iopub.execute_input": "2024-11-25T08:52:18.328546Z",
     "iopub.status.busy": "2024-11-25T08:52:18.328313Z",
     "iopub.status.idle": "2024-11-25T08:52:18.342503Z",
     "shell.execute_reply": "2024-11-25T08:52:18.341652Z"
    },
    "papermill": {
     "duration": 0.022197,
     "end_time": "2024-11-25T08:52:18.344136",
     "exception": false,
     "start_time": "2024-11-25T08:52:18.321939",
     "status": "completed"
    },
    "tags": []
   },
   "outputs": [
    {
     "name": "stdout",
     "output_type": "stream",
     "text": [
      "df shape: (15340, 4)\n",
      "precip_out shape: (15340, 4)\n"
     ]
    },
    {
     "data": {
      "text/html": [
       "<div>\n",
       "<style scoped>\n",
       "    .dataframe tbody tr th:only-of-type {\n",
       "        vertical-align: middle;\n",
       "    }\n",
       "\n",
       "    .dataframe tbody tr th {\n",
       "        vertical-align: top;\n",
       "    }\n",
       "\n",
       "    .dataframe thead th {\n",
       "        text-align: right;\n",
       "    }\n",
       "</style>\n",
       "<table border=\"1\" class=\"dataframe\">\n",
       "  <thead>\n",
       "    <tr style=\"text-align: right;\">\n",
       "      <th></th>\n",
       "      <th>MaxTemperature</th>\n",
       "      <th>MinTemperature</th>\n",
       "      <th>AvgTemperature</th>\n",
       "      <th>Precipitation</th>\n",
       "    </tr>\n",
       "  </thead>\n",
       "  <tbody>\n",
       "    <tr>\n",
       "      <th>0</th>\n",
       "      <td>-1.276356</td>\n",
       "      <td>-0.926882</td>\n",
       "      <td>-1.187127</td>\n",
       "      <td>1.650350</td>\n",
       "    </tr>\n",
       "    <tr>\n",
       "      <th>1</th>\n",
       "      <td>-1.403963</td>\n",
       "      <td>-1.259603</td>\n",
       "      <td>-1.396409</td>\n",
       "      <td>-0.259462</td>\n",
       "    </tr>\n",
       "    <tr>\n",
       "      <th>2</th>\n",
       "      <td>-1.850590</td>\n",
       "      <td>-1.592324</td>\n",
       "      <td>-1.814972</td>\n",
       "      <td>1.454472</td>\n",
       "    </tr>\n",
       "    <tr>\n",
       "      <th>3</th>\n",
       "      <td>-1.659179</td>\n",
       "      <td>-1.037789</td>\n",
       "      <td>-1.480121</td>\n",
       "      <td>14.921098</td>\n",
       "    </tr>\n",
       "    <tr>\n",
       "      <th>4</th>\n",
       "      <td>-1.659179</td>\n",
       "      <td>-1.259603</td>\n",
       "      <td>-1.563834</td>\n",
       "      <td>2.433863</td>\n",
       "    </tr>\n",
       "    <tr>\n",
       "      <th>...</th>\n",
       "      <td>...</td>\n",
       "      <td>...</td>\n",
       "      <td>...</td>\n",
       "      <td>...</td>\n",
       "    </tr>\n",
       "    <tr>\n",
       "      <th>15335</th>\n",
       "      <td>-1.021140</td>\n",
       "      <td>-0.705069</td>\n",
       "      <td>-0.935988</td>\n",
       "      <td>1.405503</td>\n",
       "    </tr>\n",
       "    <tr>\n",
       "      <th>15336</th>\n",
       "      <td>-0.638317</td>\n",
       "      <td>-0.372348</td>\n",
       "      <td>-0.559281</td>\n",
       "      <td>-0.259462</td>\n",
       "    </tr>\n",
       "    <tr>\n",
       "      <th>15337</th>\n",
       "      <td>-0.638317</td>\n",
       "      <td>-0.261441</td>\n",
       "      <td>-0.517424</td>\n",
       "      <td>2.825620</td>\n",
       "    </tr>\n",
       "    <tr>\n",
       "      <th>15338</th>\n",
       "      <td>-0.829729</td>\n",
       "      <td>-0.039627</td>\n",
       "      <td>-0.559281</td>\n",
       "      <td>1.160655</td>\n",
       "    </tr>\n",
       "    <tr>\n",
       "      <th>15339</th>\n",
       "      <td>-1.148748</td>\n",
       "      <td>-0.150534</td>\n",
       "      <td>-0.810419</td>\n",
       "      <td>-0.259462</td>\n",
       "    </tr>\n",
       "  </tbody>\n",
       "</table>\n",
       "<p>15340 rows × 4 columns</p>\n",
       "</div>"
      ],
      "text/plain": [
       "       MaxTemperature  MinTemperature  AvgTemperature  Precipitation\n",
       "0           -1.276356       -0.926882       -1.187127       1.650350\n",
       "1           -1.403963       -1.259603       -1.396409      -0.259462\n",
       "2           -1.850590       -1.592324       -1.814972       1.454472\n",
       "3           -1.659179       -1.037789       -1.480121      14.921098\n",
       "4           -1.659179       -1.259603       -1.563834       2.433863\n",
       "...               ...             ...             ...            ...\n",
       "15335       -1.021140       -0.705069       -0.935988       1.405503\n",
       "15336       -0.638317       -0.372348       -0.559281      -0.259462\n",
       "15337       -0.638317       -0.261441       -0.517424       2.825620\n",
       "15338       -0.829729       -0.039627       -0.559281       1.160655\n",
       "15339       -1.148748       -0.150534       -0.810419      -0.259462\n",
       "\n",
       "[15340 rows x 4 columns]"
      ]
     },
     "execution_count": 8,
     "metadata": {},
     "output_type": "execute_result"
    }
   ],
   "source": [
    "#Brandon Kmiec\n",
    "\n",
    "encode_numeric_zscore(df, 'MaxTemperature')\n",
    "encode_numeric_zscore(df, 'MinTemperature')\n",
    "encode_numeric_zscore(df, 'AvgTemperature')\n",
    "encode_numeric_zscore(df, 'Precipitation')\n",
    "\n",
    "\n",
    "print(\"df shape: {}\".format(df.shape))\n",
    "print(\"precip_out shape: {}\".format(df.shape))\n",
    "df"
   ]
  },
  {
   "cell_type": "code",
   "execution_count": 9,
   "id": "48c6da80",
   "metadata": {
    "execution": {
     "iopub.execute_input": "2024-11-25T08:52:18.356893Z",
     "iopub.status.busy": "2024-11-25T08:52:18.356651Z",
     "iopub.status.idle": "2024-11-25T08:52:18.364877Z",
     "shell.execute_reply": "2024-11-25T08:52:18.363950Z"
    },
    "papermill": {
     "duration": 0.016444,
     "end_time": "2024-11-25T08:52:18.366455",
     "exception": false,
     "start_time": "2024-11-25T08:52:18.350011",
     "status": "completed"
    },
    "tags": []
   },
   "outputs": [
    {
     "name": "stdout",
     "output_type": "stream",
     "text": [
      "x:\n",
      "train (10738, 3)\n",
      "test  (4602, 3)\n",
      "y:\n",
      "train (10738,)\n",
      "test  (4602,)\n"
     ]
    }
   ],
   "source": [
    "#Ian Vachuska\n",
    "TEST_SIZE = .3\n",
    "RANDOM_STATE = 42\n",
    "x, y = to_xy(df, 'Precipitation')\n",
    "x_train, x_test, ya_train, ya_test = train_test_split(\n",
    "    x, y, test_size=TEST_SIZE, random_state=RANDOM_STATE)\n",
    "\n",
    "print(\"x:\\ntrain {}\\ntest  {}\".format(x_train.shape, x_test.shape))\n",
    "print(\"y:\\ntrain {}\\ntest  {}\".format(ya_train.shape, ya_test.shape))"
   ]
  },
  {
   "cell_type": "markdown",
   "id": "a2c70b03",
   "metadata": {
    "papermill": {
     "duration": 0.005602,
     "end_time": "2024-11-25T08:52:18.377997",
     "exception": false,
     "start_time": "2024-11-25T08:52:18.372395",
     "status": "completed"
    },
    "tags": []
   },
   "source": [
    "<h1>Create Time Series</h1>"
   ]
  },
  {
   "cell_type": "code",
   "execution_count": 10,
   "id": "85637338",
   "metadata": {
    "execution": {
     "iopub.execute_input": "2024-11-25T08:52:18.390708Z",
     "iopub.status.busy": "2024-11-25T08:52:18.390459Z",
     "iopub.status.idle": "2024-11-25T08:52:24.422871Z",
     "shell.execute_reply": "2024-11-25T08:52:24.421872Z"
    },
    "papermill": {
     "duration": 6.040863,
     "end_time": "2024-11-25T08:52:24.424656",
     "exception": false,
     "start_time": "2024-11-25T08:52:18.383793",
     "status": "completed"
    },
    "tags": []
   },
   "outputs": [
    {
     "name": "stdout",
     "output_type": "stream",
     "text": [
      "x_ty: (15311, 112, 1)\n",
      "x_ly: (15311, 112, 1)\n",
      "\n",
      "x: (15311, 224, 1)\n"
     ]
    }
   ],
   "source": [
    "#Ian Vachuska\n",
    "#SEQUENCE_SIZE is equal to the length of the time series\n",
    "SEQUENCE_SIZE = 28\n",
    "#SEQUENCE_OFFSET is equal to the additional days in the past\n",
    "SEQUENCE_OFFSET = 365\n",
    "#One for this year(ty) and one for last year(ly)\n",
    "CHANNELS = 2\n",
    "#dont use z, its a dummy variable\n",
    "\n",
    "# input series LAST YEAR\n",
    "max_temp_ly_np, z = to_sequences(SEQUENCE_SIZE,df['MaxTemperature'].tolist(),SEQUENCE_OFFSET)\n",
    "min_temp_ly_np, z = to_sequences(SEQUENCE_SIZE,df['MinTemperature'].tolist(),SEQUENCE_OFFSET)\n",
    "avg_temp_ly_np, z = to_sequences(SEQUENCE_SIZE,df['AvgTemperature'].tolist(),SEQUENCE_OFFSET)\n",
    "precip_ly_np, z   = to_sequences(SEQUENCE_SIZE,df['Precipitation'].tolist(),SEQUENCE_OFFSET)\n",
    "\n",
    "# input series\n",
    "max_temp_ty_np, z = to_sequences(SEQUENCE_SIZE,df['MaxTemperature'].tolist())\n",
    "min_temp_ty_np, z = to_sequences(SEQUENCE_SIZE,df['MinTemperature'].tolist())\n",
    "avg_temp_ty_np, z = to_sequences(SEQUENCE_SIZE,df['AvgTemperature'].tolist())\n",
    "precip_ty_np, z   = to_sequences(SEQUENCE_SIZE,df['Precipitation'].tolist())\n",
    "\n",
    "x_ly = np.concatenate((max_temp_ly_np, min_temp_ly_np, avg_temp_ly_np, precip_ly_np), axis=1)\n",
    "x_ty = np.concatenate((max_temp_ty_np, min_temp_ty_np, avg_temp_ty_np, precip_ty_np), axis=1)\n",
    "\n",
    "# output value array (Not Normalized)\n",
    "#-----------------------------------------<v---------------------v>-------\n",
    "output_layer = 'Precipitation'\n",
    "z, y = to_sequences(SEQUENCE_SIZE, output_df[output_layer].tolist())\n",
    "#-----------------------------------------<^SET OUTPUT LAYER HERE^>-------\n",
    "\n",
    "#Join ty & ly time series\n",
    "x = np.concatenate((x_ty,x_ly), axis=1)\n",
    "print(\"x_ty: {}\\nx_ly: {}\\n\\nx: {}\".format(x_ty.shape,x_ly.shape,x.shape))"
   ]
  },
  {
   "cell_type": "markdown",
   "id": "09a30e36",
   "metadata": {
    "papermill": {
     "duration": 0.005811,
     "end_time": "2024-11-25T08:52:24.436682",
     "exception": false,
     "start_time": "2024-11-25T08:52:24.430871",
     "status": "completed"
    },
    "tags": []
   },
   "source": [
    "<h1>Shape Time Series Data for FCNN/CNN/RNN</h1>"
   ]
  },
  {
   "cell_type": "code",
   "execution_count": 11,
   "id": "4e580158",
   "metadata": {
    "execution": {
     "iopub.execute_input": "2024-11-25T08:52:24.450167Z",
     "iopub.status.busy": "2024-11-25T08:52:24.449392Z",
     "iopub.status.idle": "2024-11-25T08:52:24.456208Z",
     "shell.execute_reply": "2024-11-25T08:52:24.455166Z"
    },
    "papermill": {
     "duration": 0.015234,
     "end_time": "2024-11-25T08:52:24.457839",
     "exception": false,
     "start_time": "2024-11-25T08:52:24.442605",
     "status": "completed"
    },
    "tags": []
   },
   "outputs": [
    {
     "name": "stdout",
     "output_type": "stream",
     "text": [
      "x_fcnn: (15311, 224)\n",
      "x_cnn: (15311, 4, 28, 2)\n",
      "x_rnn: (15311, 8, 28)\n",
      "\n",
      "x_fcnn_ly: (15311, 112)\n",
      "x_cnn_ly: (15311, 4, 28, 1)\n",
      "x_rnn_ly: (15311, 4, 28)\n",
      "\n",
      "x_fcnn_ty: (15311, 112)\n",
      "x_cnn_ty: (15311, 4, 28, 1)\n",
      "x_rnn_ty: (15311, 4, 28)\n",
      "\n"
     ]
    }
   ],
   "source": [
    "#Ian Vachuska\n",
    "#Single input layer\n",
    "x_fcnn, x_cnn, x_rnn = shape_data(x, df.shape[1], SEQUENCE_SIZE, CHANNELS)\n",
    "print(\"x_fcnn: {}\".format(x_fcnn.shape))\n",
    "print(\"x_cnn: {}\".format(x_cnn.shape))\n",
    "print(\"x_rnn: {}\\n\".format(x_rnn.shape))\n",
    "\n",
    "#Multi input layer\n",
    "#last year\n",
    "x_fcnn_ly, x_cnn_ly, x_rnn_ly = shape_data(x_ly, df.shape[1], SEQUENCE_SIZE, 1)\n",
    "print(\"x_fcnn_ly: {}\".format(x_fcnn_ly.shape))\n",
    "print(\"x_cnn_ly: {}\".format(x_cnn_ly.shape))\n",
    "print(\"x_rnn_ly: {}\\n\".format(x_rnn_ly.shape))\n",
    "#this year\n",
    "x_fcnn_ty, x_cnn_ty, x_rnn_ty = shape_data(x_ty, df.shape[1], SEQUENCE_SIZE, 1)\n",
    "print(\"x_fcnn_ty: {}\".format(x_fcnn_ty.shape))\n",
    "print(\"x_cnn_ty: {}\".format(x_cnn_ty.shape))\n",
    "print(\"x_rnn_ty: {}\\n\".format(x_rnn_ty.shape))\n"
   ]
  },
  {
   "cell_type": "markdown",
   "id": "b664df30",
   "metadata": {
    "papermill": {
     "duration": 0.00579,
     "end_time": "2024-11-25T08:52:24.470081",
     "exception": false,
     "start_time": "2024-11-25T08:52:24.464291",
     "status": "completed"
    },
    "tags": []
   },
   "source": [
    "# **Test/Train Split**"
   ]
  },
  {
   "cell_type": "markdown",
   "id": "041cbd02",
   "metadata": {
    "papermill": {
     "duration": 0.005754,
     "end_time": "2024-11-25T08:52:24.481668",
     "exception": false,
     "start_time": "2024-11-25T08:52:24.475914",
     "status": "completed"
    },
    "tags": []
   },
   "source": [
    "<h1>Single input layer (combined)</h1>"
   ]
  },
  {
   "cell_type": "code",
   "execution_count": 12,
   "id": "c4607d4a",
   "metadata": {
    "execution": {
     "iopub.execute_input": "2024-11-25T08:52:24.494869Z",
     "iopub.status.busy": "2024-11-25T08:52:24.494016Z",
     "iopub.status.idle": "2024-11-25T08:52:24.535694Z",
     "shell.execute_reply": "2024-11-25T08:52:24.534642Z"
    },
    "papermill": {
     "duration": 0.051013,
     "end_time": "2024-11-25T08:52:24.538484",
     "exception": false,
     "start_time": "2024-11-25T08:52:24.487471",
     "status": "completed"
    },
    "tags": []
   },
   "outputs": [
    {
     "name": "stdout",
     "output_type": "stream",
     "text": [
      "fcnn:\n",
      "\ttrain (10717, 224)\n",
      "\ttest  (4594, 224)\n",
      "cnn:\n",
      "\ttrain (10717, 4, 28, 2)\n",
      "\ttest  (4594, 4, 28, 2)\n",
      "rnn:\n",
      "\ttrain (10717, 8, 28)\n",
      "\ttest  (4594, 8, 28)\n",
      "\n",
      "y:\n",
      "\ttrain (10717,)\n",
      "\ttest  (4594,)\n"
     ]
    }
   ],
   "source": [
    "#Ian Vachuska\n",
    "fcnn_train, fcnn_test, cnn_train, cnn_test, rnn_train, rnn_test, y_train, y_test = train_test_split(\n",
    "    x_fcnn, x_cnn, x_rnn, y, test_size=TEST_SIZE, random_state=RANDOM_STATE)\n",
    "\n",
    "print(\"fcnn:\\n\\ttrain {}\\n\\ttest  {}\".format(fcnn_train.shape, fcnn_test.shape))\n",
    "print(\"cnn:\\n\\ttrain {}\\n\\ttest  {}\".format(cnn_train.shape, cnn_test.shape))\n",
    "print(\"rnn:\\n\\ttrain {}\\n\\ttest  {}\".format(rnn_train.shape, rnn_test.shape))\n",
    "\n",
    "print(\"\\ny:\\n\\ttrain {}\\n\\ttest  {}\".format(y_train.shape, y_test.shape))"
   ]
  },
  {
   "cell_type": "markdown",
   "id": "a4483152",
   "metadata": {
    "papermill": {
     "duration": 0.005844,
     "end_time": "2024-11-25T08:52:24.550839",
     "exception": false,
     "start_time": "2024-11-25T08:52:24.544995",
     "status": "completed"
    },
    "tags": []
   },
   "source": [
    "<h1>Multi input layers (seperate)</h1>"
   ]
  },
  {
   "cell_type": "code",
   "execution_count": 13,
   "id": "a441bc2c",
   "metadata": {
    "execution": {
     "iopub.execute_input": "2024-11-25T08:52:24.564689Z",
     "iopub.status.busy": "2024-11-25T08:52:24.563961Z",
     "iopub.status.idle": "2024-11-25T08:52:24.622356Z",
     "shell.execute_reply": "2024-11-25T08:52:24.621264Z"
    },
    "papermill": {
     "duration": 0.067268,
     "end_time": "2024-11-25T08:52:24.624145",
     "exception": false,
     "start_time": "2024-11-25T08:52:24.556877",
     "status": "completed"
    },
    "tags": []
   },
   "outputs": [
    {
     "name": "stdout",
     "output_type": "stream",
     "text": [
      "fcnn_ly:\n",
      "\ttrain (10717, 112)\n",
      "\ttest  (4594, 112)\n",
      "cnn_ly:\n",
      "\ttrain (10717, 4, 28, 1)\n",
      "\ttest  (4594, 4, 28, 1)\n",
      "rnn_ly:\n",
      "\ttrain (10717, 4, 28)\n",
      "\ttest  (4594, 4, 28)\n",
      "fcnn_ty:\n",
      "\ttrain (10717, 112)\n",
      "\ttest  (4594, 112)\n",
      "cnn_ty:\n",
      "\ttrain (10717, 4, 28, 1)\n",
      "\ttest  (4594, 4, 28, 1)\n",
      "rnn_ty:\n",
      "\ttrain (10717, 4, 28)\n",
      "\ttest  (4594, 4, 28)\n",
      "y:\n",
      "\ttrain (10717,)\n",
      "\ttest  (4594,)\n"
     ]
    }
   ],
   "source": [
    "#Ian Vachuska\n",
    "#last years input\n",
    "fcnn_ly_train, fcnn_ly_test, cnn_ly_train, cnn_ly_test, rnn_ly_train, rnn_ly_test = train_test_split(\n",
    "    x_fcnn_ly, x_cnn_ly, x_rnn_ly, test_size=TEST_SIZE, random_state=RANDOM_STATE)\n",
    "#this years input\n",
    "fcnn_ty_train, fcnn_ty_test, cnn_ty_train, cnn_ty_test, rnn_ty_train, rnn_ty_test = train_test_split(\n",
    "    x_fcnn_ty, x_cnn_ty, x_rnn_ty, test_size=TEST_SIZE, random_state=RANDOM_STATE)\n",
    "\n",
    "#output\n",
    "y_train, y_test = train_test_split(y, test_size=TEST_SIZE, random_state=RANDOM_STATE)\n",
    "\n",
    "print(\"fcnn_ly:\\n\\ttrain {}\\n\\ttest  {}\".format(fcnn_ly_train.shape, fcnn_ly_test.shape))\n",
    "print(\"cnn_ly:\\n\\ttrain {}\\n\\ttest  {}\".format(cnn_ly_train.shape, cnn_ly_test.shape))\n",
    "print(\"rnn_ly:\\n\\ttrain {}\\n\\ttest  {}\".format(rnn_ly_train.shape, rnn_ly_test.shape))\n",
    "\n",
    "print(\"fcnn_ty:\\n\\ttrain {}\\n\\ttest  {}\".format(fcnn_ty_train.shape, fcnn_ty_test.shape))\n",
    "print(\"cnn_ty:\\n\\ttrain {}\\n\\ttest  {}\".format(cnn_ty_train.shape, cnn_ty_test.shape))\n",
    "print(\"rnn_ty:\\n\\ttrain {}\\n\\ttest  {}\".format(rnn_ty_train.shape, rnn_ty_test.shape))\n",
    "\n",
    "print(\"y:\\n\\ttrain {}\\n\\ttest  {}\".format(y_train.shape, y_test.shape))"
   ]
  },
  {
   "cell_type": "markdown",
   "id": "6ffaa843",
   "metadata": {
    "papermill": {
     "duration": 0.006109,
     "end_time": "2024-11-25T08:52:24.636799",
     "exception": false,
     "start_time": "2024-11-25T08:52:24.630690",
     "status": "completed"
    },
    "tags": []
   },
   "source": [
    "# **FCNN**"
   ]
  },
  {
   "cell_type": "code",
   "execution_count": 14,
   "id": "922fdc07",
   "metadata": {
    "execution": {
     "iopub.execute_input": "2024-11-25T08:52:24.649875Z",
     "iopub.status.busy": "2024-11-25T08:52:24.649591Z",
     "iopub.status.idle": "2024-11-25T08:52:41.394446Z",
     "shell.execute_reply": "2024-11-25T08:52:41.393509Z"
    },
    "papermill": {
     "duration": 16.753246,
     "end_time": "2024-11-25T08:52:41.396119",
     "exception": false,
     "start_time": "2024-11-25T08:52:24.642873",
     "status": "completed"
    },
    "tags": []
   },
   "outputs": [
    {
     "name": "stdout",
     "output_type": "stream",
     "text": [
      "0\n"
     ]
    },
    {
     "name": "stderr",
     "output_type": "stream",
     "text": [
      "/opt/conda/lib/python3.10/site-packages/keras/src/layers/core/dense.py:87: UserWarning: Do not pass an `input_shape`/`input_dim` argument to a layer. When using Sequential models, prefer using an `Input(shape)` object as the first layer in the model instead.\n",
      "  super().__init__(activity_regularizer=activity_regularizer, **kwargs)\n"
     ]
    },
    {
     "name": "stdout",
     "output_type": "stream",
     "text": [
      "Epoch 1/1000\n"
     ]
    },
    {
     "name": "stderr",
     "output_type": "stream",
     "text": [
      "WARNING: All log messages before absl::InitializeLog() is called are written to STDERR\n",
      "I0000 00:00:1732524746.907236      70 service.cc:145] XLA service 0x7c1d14004d10 initialized for platform CUDA (this does not guarantee that XLA will be used). Devices:\n",
      "I0000 00:00:1732524746.907315      70 service.cc:153]   StreamExecutor device (0): Tesla T4, Compute Capability 7.5\n",
      "I0000 00:00:1732524746.907322      70 service.cc:153]   StreamExecutor device (1): Tesla T4, Compute Capability 7.5\n",
      "I0000 00:00:1732524748.742398      70 device_compiler.h:188] Compiled cluster using XLA!  This line is logged at most once for the lifetime of the process.\n"
     ]
    },
    {
     "name": "stdout",
     "output_type": "stream",
     "text": [
      "335/335 - 8s - 25ms/step - loss: 0.0810 - val_loss: 0.0484\n",
      "Epoch 2/1000\n",
      "335/335 - 1s - 2ms/step - loss: 0.0492 - val_loss: 0.0435\n",
      "Epoch 3/1000\n",
      "335/335 - 1s - 2ms/step - loss: 0.0420 - val_loss: 0.0405\n",
      "Epoch 4/1000\n",
      "335/335 - 1s - 2ms/step - loss: 0.0373 - val_loss: 0.0440\n",
      "Epoch 5/1000\n",
      "335/335 - 1s - 2ms/step - loss: 0.0347 - val_loss: 0.0418\n",
      "Epoch 6/1000\n",
      "335/335 - 1s - 2ms/step - loss: 0.0318 - val_loss: 0.0387\n",
      "Epoch 7/1000\n",
      "335/335 - 1s - 2ms/step - loss: 0.0300 - val_loss: 0.0388\n",
      "Epoch 8/1000\n",
      "335/335 - 1s - 2ms/step - loss: 0.0280 - val_loss: 0.0410\n",
      "Epoch 9/1000\n",
      "335/335 - 1s - 2ms/step - loss: 0.0263 - val_loss: 0.0396\n",
      "Epoch 10/1000\n",
      "335/335 - 1s - 2ms/step - loss: 0.0247 - val_loss: 0.0399\n",
      "Epoch 11/1000\n",
      "335/335 - 1s - 2ms/step - loss: 0.0232 - val_loss: 0.0410\n",
      "Epoch 11: early stopping\n",
      "Training finished...Loading the best model\n",
      "\n"
     ]
    }
   ],
   "source": [
    "#Ian Vachuska\n",
    "#checkpointer = ModelCheckpoint(filepath='best_weight.keras',verbose=0, save_best_only=True)\n",
    "for j in range(1):\n",
    "    print(j)\n",
    "    model_fcnn = Sequential()\n",
    "    model_fcnn.add(Dense(1000, input_dim = fcnn_train.shape[1])) # Hidden 1\n",
    "    model_fcnn.add(Dense(750, activation='relu')) # Hidden 2\n",
    "    model_fcnn.add(Dense(500)) # Hidden 2\n",
    "    model_fcnn.add(Dense(250)) # Hidden 2\n",
    "    model_fcnn.add(Dense(100, activation='relu')) # Hidden 2\n",
    "    model_fcnn.add(Dense(1)) # Output\n",
    "\n",
    "    sgd_fcnn = optimizers.SGD(learning_rate=.01, momentum=0.9, nesterov=True)\n",
    "    adam_fcnn = optimizers.Adam(learning_rate=.001, beta_1=0.9, beta_2=0.999, epsilon=.1, amsgrad=False)\n",
    "    monitor_fcnn = EarlyStopping(monitor='val_loss', min_delta=1e-3, patience=5, verbose=2, mode='auto')\n",
    "\n",
    "    model_fcnn.compile(loss='mean_squared_error', optimizer = adam_fcnn)\n",
    "    model_fcnn.fit(fcnn_train, y_train, validation_data=(fcnn_test,y_test),\n",
    "               batch_size= 32, callbacks=[monitor_fcnn], verbose=2, epochs=1000)\n",
    "\n",
    "print('Training finished...Loading the best model')\n",
    "print()\n",
    "\n",
    "#model.load_weights('best_weight.keras') # load weights from best model\n",
    "#model.save(\"models/network.keras\")"
   ]
  },
  {
   "cell_type": "code",
   "execution_count": 15,
   "id": "57731870",
   "metadata": {
    "execution": {
     "iopub.execute_input": "2024-11-25T08:52:41.412219Z",
     "iopub.status.busy": "2024-11-25T08:52:41.411939Z",
     "iopub.status.idle": "2024-11-25T08:52:42.250294Z",
     "shell.execute_reply": "2024-11-25T08:52:42.249411Z"
    },
    "papermill": {
     "duration": 0.848597,
     "end_time": "2024-11-25T08:52:42.252574",
     "exception": false,
     "start_time": "2024-11-25T08:52:41.403977",
     "status": "completed"
    },
    "tags": []
   },
   "outputs": [
    {
     "name": "stdout",
     "output_type": "stream",
     "text": [
      "\u001b[1m144/144\u001b[0m \u001b[32m━━━━━━━━━━━━━━━━━━━━\u001b[0m\u001b[37m\u001b[0m \u001b[1m0s\u001b[0m 2ms/step\n"
     ]
    },
    {
     "data": {
      "image/png": "[encoded data removed]",
      "text/plain": [
       "<Figure size 640x480 with 1 Axes>"
      ]
     },
     "metadata": {},
     "output_type": "display_data"
    },
    {
     "name": "stdout",
     "output_type": "stream",
     "text": [
      "Final score (RMSE): 0.20244848021617337\n"
     ]
    }
   ],
   "source": [
    "#Ian Vachuska\n",
    "#Make prediction\n",
    "pred = model_fcnn.predict(fcnn_test)\n",
    "df_y = pd.DataFrame(ya_test, columns=['actual'])\n",
    "df_pred = pd.DataFrame(pred, columns=['predicted'])\n",
    "result = pd.concat([df_y, df_pred],axis=1)\n",
    "#result[0:10]\n",
    "\n",
    "#Plot chart\n",
    "plt.title(f\"{output_layer} FCNN\")\n",
    "chart_regression(pred.flatten(),y_test, sort=True)\n",
    "\n",
    "# Measure RMSE error.  RMSE is common for regression.\n",
    "score = np.sqrt(metrics.mean_squared_error(pred,y_test))\n",
    "print(\"Final score (RMSE): {}\".format(score))"
   ]
  },
  {
   "cell_type": "code",
   "execution_count": 16,
   "id": "45d7c00b",
   "metadata": {
    "execution": {
     "iopub.execute_input": "2024-11-25T08:52:42.270126Z",
     "iopub.status.busy": "2024-11-25T08:52:42.269854Z",
     "iopub.status.idle": "2024-11-25T08:52:42.273140Z",
     "shell.execute_reply": "2024-11-25T08:52:42.272517Z"
    },
    "papermill": {
     "duration": 0.013709,
     "end_time": "2024-11-25T08:52:42.274727",
     "exception": false,
     "start_time": "2024-11-25T08:52:42.261018",
     "status": "completed"
    },
    "tags": []
   },
   "outputs": [],
   "source": [
    "#Ian Vachuska\n",
    "#model_fcnn.save(\"network_RMSE_{}.keras\".format(score.round()))"
   ]
  },
  {
   "cell_type": "markdown",
   "id": "a7862d28",
   "metadata": {
    "papermill": {
     "duration": 0.007808,
     "end_time": "2024-11-25T08:52:42.290556",
     "exception": false,
     "start_time": "2024-11-25T08:52:42.282748",
     "status": "completed"
    },
    "tags": []
   },
   "source": [
    "# **CNN**"
   ]
  },
  {
   "cell_type": "code",
   "execution_count": 17,
   "id": "75a8878f",
   "metadata": {
    "execution": {
     "iopub.execute_input": "2024-11-25T08:52:42.307839Z",
     "iopub.status.busy": "2024-11-25T08:52:42.307579Z",
     "iopub.status.idle": "2024-11-25T08:52:51.578417Z",
     "shell.execute_reply": "2024-11-25T08:52:51.577555Z"
    },
    "papermill": {
     "duration": 9.281494,
     "end_time": "2024-11-25T08:52:51.580035",
     "exception": false,
     "start_time": "2024-11-25T08:52:42.298541",
     "status": "completed"
    },
    "tags": []
   },
   "outputs": [
    {
     "name": "stdout",
     "output_type": "stream",
     "text": [
      "Epoch 1/1000\n"
     ]
    },
    {
     "name": "stderr",
     "output_type": "stream",
     "text": [
      "/opt/conda/lib/python3.10/site-packages/keras/src/layers/convolutional/base_conv.py:107: UserWarning: Do not pass an `input_shape`/`input_dim` argument to a layer. When using Sequential models, prefer using an `Input(shape)` object as the first layer in the model instead.\n",
      "  super().__init__(activity_regularizer=activity_regularizer, **kwargs)\n"
     ]
    },
    {
     "name": "stdout",
     "output_type": "stream",
     "text": [
      "335/335 - 7s - 20ms/step - loss: 0.0452 - val_loss: 0.0340\n",
      "Epoch 2/1000\n",
      "335/335 - 1s - 2ms/step - loss: 0.0438 - val_loss: 0.0337\n",
      "Epoch 3/1000\n",
      "335/335 - 1s - 2ms/step - loss: 0.0433 - val_loss: 0.0335\n",
      "Epoch 4/1000\n",
      "335/335 - 1s - 2ms/step - loss: 0.0429 - val_loss: 0.0333\n",
      "Epoch 4: early stopping\n"
     ]
    },
    {
     "data": {
      "text/plain": [
       "<keras.src.callbacks.history.History at 0x7c1da2d96950>"
      ]
     },
     "execution_count": 17,
     "metadata": {},
     "output_type": "execute_result"
    }
   ],
   "source": [
    "#Ian Vachuska\n",
    "model_cnn = Sequential()\n",
    "model_cnn.add(Conv2D(32, (3, 3), padding='same', input_shape = cnn_train.shape[1:]))\n",
    "model_cnn.add(Activation('relu'))\n",
    "#model_cnn.add(Dropout(0.25))\n",
    "\n",
    "model_cnn.add(Conv2D(64, (3, 3), padding='same'))\n",
    "model_cnn.add(Activation('relu'))\n",
    "model_cnn.add(MaxPooling2D(pool_size=(2, 2)))\n",
    "#model_cnn.add(Dropout(0.25))\n",
    "\n",
    "model_cnn.add(Flatten())\n",
    "model_cnn.add(Dense(512, activation = 'relu'))\n",
    "#model_cnn.add(Activation('relu'))\n",
    "model_cnn.add(Dense(50, activation = 'relu'))\n",
    "model_cnn.add(Dense(1))\n",
    "\n",
    "sgd_cnn = optimizers.SGD(learning_rate=.01, momentum=0.9, nesterov=True)\n",
    "adam_cnn = optimizers.Adam(learning_rate=.0001, beta_1=0.9, beta_2=0.999, epsilon=.1, amsgrad=False)\n",
    "monitor_cnn = EarlyStopping(monitor='val_loss', min_delta=1e-3, patience=3, verbose=2, mode='auto')\n",
    "\n",
    "model_cnn.compile(loss='mean_squared_error', optimizer = adam_cnn)\n",
    "model_cnn.fit(cnn_train, y_train, validation_data=(cnn_test,y_test),\n",
    "               batch_size= 32, callbacks=[monitor_cnn], verbose=2, epochs=1000)"
   ]
  },
  {
   "cell_type": "code",
   "execution_count": 18,
   "id": "6bfb776a",
   "metadata": {
    "execution": {
     "iopub.execute_input": "2024-11-25T08:52:51.598632Z",
     "iopub.status.busy": "2024-11-25T08:52:51.598346Z",
     "iopub.status.idle": "2024-11-25T08:52:52.485824Z",
     "shell.execute_reply": "2024-11-25T08:52:52.484929Z"
    },
    "papermill": {
     "duration": 0.898937,
     "end_time": "2024-11-25T08:52:52.487883",
     "exception": false,
     "start_time": "2024-11-25T08:52:51.588946",
     "status": "completed"
    },
    "tags": []
   },
   "outputs": [
    {
     "name": "stdout",
     "output_type": "stream",
     "text": [
      "\u001b[1m144/144\u001b[0m \u001b[32m━━━━━━━━━━━━━━━━━━━━\u001b[0m\u001b[37m\u001b[0m \u001b[1m1s\u001b[0m 2ms/step\n"
     ]
    },
    {
     "data": {
      "image/png": "[encoded data removed]",
      "text/plain": [
       "<Figure size 640x480 with 1 Axes>"
      ]
     },
     "metadata": {},
     "output_type": "display_data"
    },
    {
     "name": "stdout",
     "output_type": "stream",
     "text": [
      "Final score (RMSE): 0.1824466022260014\n"
     ]
    }
   ],
   "source": [
    "#Ian Vachuska\n",
    "#Make prediction\n",
    "pred_cnn = model_cnn.predict(cnn_test)\n",
    "df_y_cnn = pd.DataFrame(y_test, columns=['actual'])\n",
    "df_pred_cnn = pd.DataFrame(pred_cnn, columns=['predicted'])\n",
    "result_cnn = pd.concat([df_y_cnn, df_pred_cnn],axis=1)\n",
    "#result_cnn[0:10]\n",
    "\n",
    "#Plot chart\n",
    "plt.title(f\"{output_layer} CNN\")\n",
    "chart_regression(pred_cnn.flatten(),y_test, sort=True)\n",
    "\n",
    "# Measure RMSE error.  RMSE is common for regression.\n",
    "score_cnn = np.sqrt(metrics.mean_squared_error(pred_cnn,y_test))\n",
    "print(\"Final score (RMSE): {}\".format(score_cnn))"
   ]
  },
  {
   "cell_type": "markdown",
   "id": "6b3a23ee",
   "metadata": {
    "papermill": {
     "duration": 0.009299,
     "end_time": "2024-11-25T08:52:52.507217",
     "exception": false,
     "start_time": "2024-11-25T08:52:52.497918",
     "status": "completed"
    },
    "tags": []
   },
   "source": [
    "# **RNN**"
   ]
  },
  {
   "cell_type": "code",
   "execution_count": 19,
   "id": "07431fce",
   "metadata": {
    "execution": {
     "iopub.execute_input": "2024-11-25T08:52:52.527453Z",
     "iopub.status.busy": "2024-11-25T08:52:52.526812Z",
     "iopub.status.idle": "2024-11-25T08:53:32.860045Z",
     "shell.execute_reply": "2024-11-25T08:53:32.859216Z"
    },
    "papermill": {
     "duration": 40.345125,
     "end_time": "2024-11-25T08:53:32.861746",
     "exception": false,
     "start_time": "2024-11-25T08:52:52.516621",
     "status": "completed"
    },
    "tags": []
   },
   "outputs": [
    {
     "name": "stdout",
     "output_type": "stream",
     "text": [
      "Epoch 1/1000\n"
     ]
    },
    {
     "name": "stderr",
     "output_type": "stream",
     "text": [
      "/opt/conda/lib/python3.10/site-packages/keras/src/layers/rnn/rnn.py:204: UserWarning: Do not pass an `input_shape`/`input_dim` argument to a layer. When using Sequential models, prefer using an `Input(shape)` object as the first layer in the model instead.\n",
      "  super().__init__(**kwargs)\n"
     ]
    },
    {
     "name": "stdout",
     "output_type": "stream",
     "text": [
      "335/335 - 15s - 43ms/step - loss: 0.0474 - val_loss: 0.0323\n",
      "Epoch 2/1000\n",
      "335/335 - 6s - 19ms/step - loss: 0.0411 - val_loss: 0.0310\n",
      "Epoch 3/1000\n",
      "335/335 - 6s - 19ms/step - loss: 0.0400 - val_loss: 0.0323\n",
      "Epoch 4/1000\n",
      "335/335 - 6s - 19ms/step - loss: 0.0393 - val_loss: 0.0303\n",
      "Epoch 5/1000\n",
      "335/335 - 7s - 19ms/step - loss: 0.0384 - val_loss: 0.0301\n",
      "Epoch 5: early stopping\n"
     ]
    },
    {
     "data": {
      "text/plain": [
       "<keras.src.callbacks.history.History at 0x7c1da27f5c00>"
      ]
     },
     "execution_count": 19,
     "metadata": {},
     "output_type": "execute_result"
    }
   ],
   "source": [
    "#Brandon Kmiec\n",
    "\n",
    "rnn_bidirectional = Sequential()\n",
    "\n",
    "rnn_bidirectional.add(Bidirectional(LSTM(256, dropout=0.1, \n",
    "                                         recurrent_dropout=0.1, \n",
    "                                         input_shape=(5, SEQUENCE_SIZE))))\n",
    "rnn_bidirectional.add(Dense(128))\n",
    "rnn_bidirectional.add(Dense(64))\n",
    "rnn_bidirectional.add(Dense(32))\n",
    "rnn_bidirectional.add(Dense(16))\n",
    "rnn_bidirectional.add(Dense(8))\n",
    "rnn_bidirectional.add(Dense(4))\n",
    "rnn_bidirectional.add(Dense(2))\n",
    "rnn_bidirectional.add(Dense(1))\n",
    "\n",
    "rnn_bidirectional.compile(loss='mean_squared_error', optimizer='adam')\n",
    "\n",
    "monitor_rnn_bidirectional = EarlyStopping(monitor='val_loss', min_delta=1e-3, \n",
    "                                          patience=3, verbose=1, mode='auto')\n",
    "\n",
    "rnn_bidirectional.fit(rnn_train, y_train, \n",
    "                      validation_data=(rnn_test, y_test), \n",
    "                      callbacks=[monitor_rnn_bidirectional], \n",
    "                      verbose=2, epochs=1000)"
   ]
  },
  {
   "cell_type": "code",
   "execution_count": 20,
   "id": "dc688b1a",
   "metadata": {
    "execution": {
     "iopub.execute_input": "2024-11-25T08:53:32.883644Z",
     "iopub.status.busy": "2024-11-25T08:53:32.883360Z",
     "iopub.status.idle": "2024-11-25T08:53:34.715400Z",
     "shell.execute_reply": "2024-11-25T08:53:34.714592Z"
    },
    "papermill": {
     "duration": 1.845954,
     "end_time": "2024-11-25T08:53:34.718229",
     "exception": false,
     "start_time": "2024-11-25T08:53:32.872275",
     "status": "completed"
    },
    "tags": []
   },
   "outputs": [
    {
     "name": "stdout",
     "output_type": "stream",
     "text": [
      "\u001b[1m144/144\u001b[0m \u001b[32m━━━━━━━━━━━━━━━━━━━━\u001b[0m\u001b[37m\u001b[0m \u001b[1m1s\u001b[0m 8ms/step\n"
     ]
    },
    {
     "data": {
      "image/png": "[encoded data removed]",
      "text/plain": [
       "<Figure size 640x480 with 1 Axes>"
      ]
     },
     "metadata": {},
     "output_type": "display_data"
    },
    {
     "name": "stdout",
     "output_type": "stream",
     "text": [
      "Final score (RMSE): 0.1734362012275215\n"
     ]
    }
   ],
   "source": [
    "#Brandon Kmiec\n",
    "\n",
    "#Make prediction\n",
    "pred_rnn = rnn_bidirectional.predict(rnn_test)\n",
    "df_y_rnn = pd.DataFrame(y_test, columns=['actual'])\n",
    "df_pred_rnn = pd.DataFrame(pred_rnn, columns=['predicted'])\n",
    "result_rnn = pd.concat([df_y_rnn, df_pred_rnn],axis=1)\n",
    "\n",
    "#Plot chart\n",
    "plt.title(f\"{output_layer} RNN\")\n",
    "chart_regression(pred_rnn.flatten(),y_test, sort=True)\n",
    "\n",
    "# Measure RMSE error.  RMSE is common for regression.\n",
    "score_rnn = np.sqrt(metrics.mean_squared_error(pred_rnn,y_test))\n",
    "print(\"Final score (RMSE): {}\".format(score_rnn))"
   ]
  }
 ],
 "metadata": {
  "kaggle": {
   "accelerator": "nvidiaTeslaT4",
   "dataSources": [
    {
     "datasetId": 6056241,
     "sourceId": 9866647,
     "sourceType": "datasetVersion"
    }
   ],
   "dockerImageVersionId": 30786,
   "isGpuEnabled": true,
   "isInternetEnabled": false,
   "language": "python",
   "sourceType": "notebook"
  },
  "kernelspec": {
   "display_name": "Python 3",
   "language": "python",
   "name": "python3"
  },
  "language_info": {
   "codemirror_mode": {
    "name": "ipython",
    "version": 3
   },
   "file_extension": ".py",
   "mimetype": "text/x-python",
   "name": "python",
   "nbconvert_exporter": "python",
   "pygments_lexer": "ipython3",
   "version": "3.10.14"
  },
  "papermill": {
   "default_parameters": {},
   "duration": 95.589791,
   "end_time": "2024-11-25T08:53:37.479807",
   "environment_variables": {},
   "exception": null,
   "input_path": "__notebook__.ipynb",
   "output_path": "__notebook__.ipynb",
   "parameters": {},
   "start_time": "2024-11-25T08:52:01.890016",
   "version": "2.6.0"
  }
 },
 "nbformat": 4,
 "nbformat_minor": 5
}
